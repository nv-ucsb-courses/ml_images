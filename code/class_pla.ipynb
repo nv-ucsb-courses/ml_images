{
 "cells": [
  {
   "cell_type": "code",
   "execution_count": 5,
   "id": "320bd8b7-7302-48c3-948d-ef6b54131285",
   "metadata": {},
   "outputs": [],
   "source": [
    "import numpy as np"
   ]
  },
  {
   "cell_type": "code",
   "execution_count": null,
   "id": "fa3f4122-ec8e-4bf4-b0a2-7cd86505f0c7",
   "metadata": {},
   "outputs": [],
   "source": [
    "# definig the activations\n",
    "def step(x): return 1 if x > o else 0\n",
    "def sigmoid(x): return 1/(1 + np.exp(-x))"
   ]
  },
  {
   "cell_type": "code",
   "execution_count": null,
   "id": "cf661f89-9d10-46bf-b7fa-eaa5b0f6002c",
   "metadata": {},
   "outputs": [],
   "source": [
    "# define universal node (bias in w[0] -> x[0] = 1)\n",
    "def nn_node(x,w,act_fn=step): return act_fn(n.pdot(x,w))"
   ]
  }
 ],
 "metadata": {
  "kernelspec": {
   "display_name": "Python 3 (ipykernel)",
   "language": "python",
   "name": "python3"
  },
  "language_info": {
   "codemirror_mode": {
    "name": "ipython",
    "version": 3
   },
   "file_extension": ".py",
   "mimetype": "text/x-python",
   "name": "python",
   "nbconvert_exporter": "python",
   "pygments_lexer": "ipython3",
   "version": "3.11.7"
  }
 },
 "nbformat": 4,
 "nbformat_minor": 5
}
